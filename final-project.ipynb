{
 "cells": [
  {
   "cell_type": "markdown",
   "metadata": {},
   "source": [
    "# Final Project Template "
   ]
  },
  {
   "cell_type": "markdown",
   "metadata": {},
   "source": [
    "## 1) Get your data\n",
    "You may use any data set(s) you like, so long as they meet these criteria:\n",
    "\n",
    "* Your data must be publically available for free.\n",
    "* Your data should be interesting to _you_. You want your final project to be something you're proud of.\n",
    "* Your data should be \"big enough\":\n",
    "    - It should have at least 1,000 rows.\n",
    "    - It should have enough of columns to be interesting.\n",
    "    - If you have questions, contact a member of the instructional team."
   ]
  },
  {
   "cell_type": "markdown",
   "metadata": {},
   "source": [
    "## 2) Provide a link to your data\n",
    "Your data is required to be free and open to anyone.\n",
    "As such, you should have a URL which anyone can use to download your data:"
   ]
  },
  {
   "cell_type": "code",
   "execution_count": null,
   "metadata": {},
   "outputs": [],
   "source": [
    "# Enter link here.\n",
    "https://github.com/CHT2016/final-project/blob/master/"
   ]
  },
  {
   "cell_type": "markdown",
   "metadata": {},
   "source": [
    "## 3) Import your data\n",
    "In the space below, import your data.\n",
    "If your data span multiple files, read them all in.\n",
    "If applicable, merge or append them as needed."
   ]
  },
  {
   "cell_type": "code",
   "execution_count": 11,
   "metadata": {},
   "outputs": [],
   "source": [
    "#Import all necessary materials for Data Analysis \n",
    "import pandas as pd\n",
    "import seaborn as sns\n",
    "import sklearn\n",
    "import numpy as np \n",
    "import matplotlib.pyplot as plt"
   ]
  },
  {
   "cell_type": "code",
   "execution_count": 4,
   "metadata": {},
   "outputs": [],
   "source": [
    "#Read in the data to a Pandas DataFame\n",
    "waveform = pd.read_csv(\"channel_383_waveforms.csv\")"
   ]
  },
  {
   "cell_type": "code",
   "execution_count": 12,
   "metadata": {},
   "outputs": [
    {
     "data": {
      "text/html": [
       "<div>\n",
       "<style scoped>\n",
       "    .dataframe tbody tr th:only-of-type {\n",
       "        vertical-align: middle;\n",
       "    }\n",
       "\n",
       "    .dataframe tbody tr th {\n",
       "        vertical-align: top;\n",
       "    }\n",
       "\n",
       "    .dataframe thead th {\n",
       "        text-align: right;\n",
       "    }\n",
       "</style>\n",
       "<table border=\"1\" class=\"dataframe\">\n",
       "  <thead>\n",
       "    <tr style=\"text-align: right;\">\n",
       "      <th></th>\n",
       "      <th>Points1</th>\n",
       "      <th>Points2</th>\n",
       "      <th>Points3</th>\n",
       "      <th>Points4</th>\n",
       "      <th>Points5</th>\n",
       "      <th>Points6</th>\n",
       "      <th>Points7</th>\n",
       "      <th>Points8</th>\n",
       "      <th>Points9</th>\n",
       "      <th>Points10</th>\n",
       "      <th>...</th>\n",
       "      <th>Points43</th>\n",
       "      <th>Points44</th>\n",
       "      <th>Points45</th>\n",
       "      <th>Points46</th>\n",
       "      <th>Points47</th>\n",
       "      <th>Points48</th>\n",
       "      <th>Points49</th>\n",
       "      <th>Points50</th>\n",
       "      <th>Points51</th>\n",
       "      <th>Points52</th>\n",
       "    </tr>\n",
       "  </thead>\n",
       "  <tbody>\n",
       "    <tr>\n",
       "      <th>0</th>\n",
       "      <td>-9.0</td>\n",
       "      <td>-23.6</td>\n",
       "      <td>-30.4</td>\n",
       "      <td>-28.8</td>\n",
       "      <td>-24.6</td>\n",
       "      <td>-16.0</td>\n",
       "      <td>-6.0</td>\n",
       "      <td>4.8</td>\n",
       "      <td>10.2</td>\n",
       "      <td>14.4</td>\n",
       "      <td>...</td>\n",
       "      <td>-5.8</td>\n",
       "      <td>-16.0</td>\n",
       "      <td>-18.0</td>\n",
       "      <td>-26.0</td>\n",
       "      <td>-28.4</td>\n",
       "      <td>-26.0</td>\n",
       "      <td>-26.6</td>\n",
       "      <td>-29.8</td>\n",
       "      <td>-33.8</td>\n",
       "      <td>-36.0</td>\n",
       "    </tr>\n",
       "    <tr>\n",
       "      <th>1</th>\n",
       "      <td>-56.6</td>\n",
       "      <td>-52.2</td>\n",
       "      <td>-46.4</td>\n",
       "      <td>-44.8</td>\n",
       "      <td>-35.4</td>\n",
       "      <td>-32.0</td>\n",
       "      <td>-36.8</td>\n",
       "      <td>-31.4</td>\n",
       "      <td>-31.2</td>\n",
       "      <td>-32.0</td>\n",
       "      <td>...</td>\n",
       "      <td>12.2</td>\n",
       "      <td>7.6</td>\n",
       "      <td>8.0</td>\n",
       "      <td>-0.8</td>\n",
       "      <td>-11.6</td>\n",
       "      <td>-9.2</td>\n",
       "      <td>1.6</td>\n",
       "      <td>2.6</td>\n",
       "      <td>4.0</td>\n",
       "      <td>2.0</td>\n",
       "    </tr>\n",
       "    <tr>\n",
       "      <th>2</th>\n",
       "      <td>-0.6</td>\n",
       "      <td>0.4</td>\n",
       "      <td>3.2</td>\n",
       "      <td>9.4</td>\n",
       "      <td>11.6</td>\n",
       "      <td>3.8</td>\n",
       "      <td>-2.8</td>\n",
       "      <td>-8.0</td>\n",
       "      <td>-14.8</td>\n",
       "      <td>-9.8</td>\n",
       "      <td>...</td>\n",
       "      <td>30.8</td>\n",
       "      <td>31.0</td>\n",
       "      <td>29.4</td>\n",
       "      <td>20.6</td>\n",
       "      <td>20.0</td>\n",
       "      <td>23.8</td>\n",
       "      <td>22.6</td>\n",
       "      <td>9.6</td>\n",
       "      <td>-1.6</td>\n",
       "      <td>-8.6</td>\n",
       "    </tr>\n",
       "    <tr>\n",
       "      <th>3</th>\n",
       "      <td>-13.0</td>\n",
       "      <td>-11.0</td>\n",
       "      <td>-5.8</td>\n",
       "      <td>-10.4</td>\n",
       "      <td>-7.2</td>\n",
       "      <td>0.0</td>\n",
       "      <td>8.2</td>\n",
       "      <td>12.6</td>\n",
       "      <td>11.0</td>\n",
       "      <td>5.4</td>\n",
       "      <td>...</td>\n",
       "      <td>-4.2</td>\n",
       "      <td>-7.2</td>\n",
       "      <td>-6.2</td>\n",
       "      <td>-4.0</td>\n",
       "      <td>-10.2</td>\n",
       "      <td>-13.8</td>\n",
       "      <td>-18.8</td>\n",
       "      <td>-24.2</td>\n",
       "      <td>-15.6</td>\n",
       "      <td>-11.8</td>\n",
       "    </tr>\n",
       "    <tr>\n",
       "      <th>4</th>\n",
       "      <td>-2.6</td>\n",
       "      <td>0.2</td>\n",
       "      <td>1.4</td>\n",
       "      <td>0.6</td>\n",
       "      <td>-3.8</td>\n",
       "      <td>-4.8</td>\n",
       "      <td>2.8</td>\n",
       "      <td>5.0</td>\n",
       "      <td>3.2</td>\n",
       "      <td>4.2</td>\n",
       "      <td>...</td>\n",
       "      <td>18.2</td>\n",
       "      <td>9.0</td>\n",
       "      <td>5.2</td>\n",
       "      <td>8.6</td>\n",
       "      <td>11.8</td>\n",
       "      <td>9.4</td>\n",
       "      <td>8.0</td>\n",
       "      <td>3.4</td>\n",
       "      <td>-0.4</td>\n",
       "      <td>-2.2</td>\n",
       "    </tr>\n",
       "  </tbody>\n",
       "</table>\n",
       "<p>5 rows × 52 columns</p>\n",
       "</div>"
      ],
      "text/plain": [
       "   Points1  Points2  Points3  Points4  Points5  Points6  Points7  Points8  \\\n",
       "0     -9.0    -23.6    -30.4    -28.8    -24.6    -16.0     -6.0      4.8   \n",
       "1    -56.6    -52.2    -46.4    -44.8    -35.4    -32.0    -36.8    -31.4   \n",
       "2     -0.6      0.4      3.2      9.4     11.6      3.8     -2.8     -8.0   \n",
       "3    -13.0    -11.0     -5.8    -10.4     -7.2      0.0      8.2     12.6   \n",
       "4     -2.6      0.2      1.4      0.6     -3.8     -4.8      2.8      5.0   \n",
       "\n",
       "   Points9  Points10  ...  Points43  Points44  Points45  Points46  Points47  \\\n",
       "0     10.2      14.4  ...      -5.8     -16.0     -18.0     -26.0     -28.4   \n",
       "1    -31.2     -32.0  ...      12.2       7.6       8.0      -0.8     -11.6   \n",
       "2    -14.8      -9.8  ...      30.8      31.0      29.4      20.6      20.0   \n",
       "3     11.0       5.4  ...      -4.2      -7.2      -6.2      -4.0     -10.2   \n",
       "4      3.2       4.2  ...      18.2       9.0       5.2       8.6      11.8   \n",
       "\n",
       "   Points48  Points49  Points50  Points51  Points52  \n",
       "0     -26.0     -26.6     -29.8     -33.8     -36.0  \n",
       "1      -9.2       1.6       2.6       4.0       2.0  \n",
       "2      23.8      22.6       9.6      -1.6      -8.6  \n",
       "3     -13.8     -18.8     -24.2     -15.6     -11.8  \n",
       "4       9.4       8.0       3.4      -0.4      -2.2  \n",
       "\n",
       "[5 rows x 52 columns]"
      ]
     },
     "execution_count": 12,
     "metadata": {},
     "output_type": "execute_result"
    }
   ],
   "source": [
    "# the head of the data, each line presents a waveform\n",
    "waveform.head()"
   ]
  },
  {
   "cell_type": "code",
   "execution_count": 13,
   "metadata": {},
   "outputs": [
    {
     "data": {
      "text/plain": [
       "(75785, 52)"
      ]
     },
     "execution_count": 13,
     "metadata": {},
     "output_type": "execute_result"
    }
   ],
   "source": [
    "# the shape of the data\n",
    "waveform.shape"
   ]
  },
  {
   "cell_type": "code",
   "execution_count": 78,
   "metadata": {},
   "outputs": [
    {
     "data": {
      "text/plain": [
       "(75785, 52)"
      ]
     },
     "execution_count": 78,
     "metadata": {},
     "output_type": "execute_result"
    }
   ],
   "source": [
    "X = waveform.values;\n",
    "X.shape"
   ]
  },
  {
   "cell_type": "code",
   "execution_count": 79,
   "metadata": {},
   "outputs": [
    {
     "name": "stdout",
     "output_type": "stream",
     "text": [
      "75785\n"
     ]
    }
   ],
   "source": [
    "# ranmdom select unsorted wavefor to show\n",
    "a=len(waveform)\n",
    "print(a)\n",
    "\n",
    "random_list = np.random.randint(0,a,200)\n",
    "# print(random_list)"
   ]
  },
  {
   "cell_type": "code",
   "execution_count": 72,
   "metadata": {},
   "outputs": [],
   "source": [
    "# define x-axis: ms\n",
    "x = np.linspace(0/40, 51/40,52) # sample_frequency = 40 points per ms"
   ]
  },
  {
   "cell_type": "code",
   "execution_count": 73,
   "metadata": {},
   "outputs": [
    {
     "data": {
      "text/plain": [
       "Text(0, 0.5, 'voltage (mV)')"
      ]
     },
     "execution_count": 73,
     "metadata": {},
     "output_type": "execute_result"
    },
    {
     "data": {
      "image/png": "[encoded data removed]",
      "text/plain": [
       "<Figure size 432x288 with 1 Axes>"
      ]
     },
     "metadata": {},
     "output_type": "display_data"
    }
   ],
   "source": [
    "import matplotlib.pyplot as plt\n",
    "plt.style.use('seaborn-whitegrid')\n",
    "\n",
    "# multiple line plot\n",
    "fig = plt.figure()\n",
    "ax = plt.axes()\n",
    "\n",
    "for row in random_list:\n",
    "    plt.plot(x, X[row,:], linewidth=1,color='gray')\n",
    "    \n",
    "# Add title & axis labels\n",
    "plt.title(\"undorted waveforms\", loc='left', fontsize=12, fontweight=0, color='orange')\n",
    "plt.legend('')\n",
    "plt.xlabel(\"Time (ms)\")\n",
    "plt.ylabel(\"voltage (mV)\")"
   ]
  },
  {
   "cell_type": "markdown",
   "metadata": {},
   "source": [
    "##  PCA Projection to 2D"
   ]
  },
  {
   "cell_type": "code",
   "execution_count": null,
   "metadata": {},
   "outputs": [],
   "source": [
    "# necessary materials for PCA\n",
    "from sklearn.decomposition import PCA\n",
    "from sklearn.preprocessing import StandardScaler\n",
    "%matplotlib inline"
   ]
  },
  {
   "cell_type": "code",
   "execution_count": 81,
   "metadata": {},
   "outputs": [],
   "source": [
    "pca = PCA(n_components=2)"
   ]
  },
  {
   "cell_type": "code",
   "execution_count": 82,
   "metadata": {},
   "outputs": [],
   "source": [
    "principalComponents = pca.fit_transform(X)"
   ]
  },
  {
   "cell_type": "code",
   "execution_count": 83,
   "metadata": {},
   "outputs": [],
   "source": [
    "principalDf = pd.DataFrame(data = principalComponents\n",
    "             , columns = ['principal component 1', 'principal component 2'])"
   ]
  },
  {
   "cell_type": "code",
   "execution_count": 84,
   "metadata": {},
   "outputs": [
    {
     "data": {
      "text/html": [
       "<div>\n",
       "<style scoped>\n",
       "    .dataframe tbody tr th:only-of-type {\n",
       "        vertical-align: middle;\n",
       "    }\n",
       "\n",
       "    .dataframe tbody tr th {\n",
       "        vertical-align: top;\n",
       "    }\n",
       "\n",
       "    .dataframe thead th {\n",
       "        text-align: right;\n",
       "    }\n",
       "</style>\n",
       "<table border=\"1\" class=\"dataframe\">\n",
       "  <thead>\n",
       "    <tr style=\"text-align: right;\">\n",
       "      <th></th>\n",
       "      <th>principal component 1</th>\n",
       "      <th>principal component 2</th>\n",
       "    </tr>\n",
       "  </thead>\n",
       "  <tbody>\n",
       "    <tr>\n",
       "      <th>0</th>\n",
       "      <td>94.979039</td>\n",
       "      <td>-92.025717</td>\n",
       "    </tr>\n",
       "    <tr>\n",
       "      <th>1</th>\n",
       "      <td>-32.359500</td>\n",
       "      <td>75.351401</td>\n",
       "    </tr>\n",
       "    <tr>\n",
       "      <th>2</th>\n",
       "      <td>-4.015996</td>\n",
       "      <td>50.816331</td>\n",
       "    </tr>\n",
       "    <tr>\n",
       "      <th>3</th>\n",
       "      <td>16.717371</td>\n",
       "      <td>-53.700856</td>\n",
       "    </tr>\n",
       "    <tr>\n",
       "      <th>4</th>\n",
       "      <td>-68.069266</td>\n",
       "      <td>-5.126346</td>\n",
       "    </tr>\n",
       "  </tbody>\n",
       "</table>\n",
       "</div>"
      ],
      "text/plain": [
       "   principal component 1  principal component 2\n",
       "0              94.979039             -92.025717\n",
       "1             -32.359500              75.351401\n",
       "2              -4.015996              50.816331\n",
       "3              16.717371             -53.700856\n",
       "4             -68.069266              -5.126346"
      ]
     },
     "execution_count": 84,
     "metadata": {},
     "output_type": "execute_result"
    }
   ],
   "source": [
    "principalDf.head(5)"
   ]
  },
  {
   "cell_type": "markdown",
   "metadata": {},
   "source": [
    "# Visualize 2D Projection\n",
    "Use a PCA projection to 2d to visualize the entire data set. You should plot different classes using different colors or shapes. Do the classes seem well-separated from each other?"
   ]
  },
  {
   "cell_type": "code",
   "execution_count": 93,
   "metadata": {},
   "outputs": [],
   "source": [
    "# ranmdom select unsorted wavefor to show\n",
    "random_list2 = np.random.randint(0,a,5000)"
   ]
  },
  {
   "cell_type": "code",
   "execution_count": 94,
   "metadata": {},
   "outputs": [
    {
     "data": {
      "image/png": "[encoded data removed]",
      "text/plain": [
       "<Figure size 576x576 with 1 Axes>"
      ]
     },
     "metadata": {
      "needs_background": "light"
     },
     "output_type": "display_data"
    }
   ],
   "source": [
    "fig = plt.figure(figsize = (8,8))\n",
    "ax = fig.add_subplot(1,1,1) \n",
    "ax.set_xlabel('Principal Component 1', fontsize = 15)\n",
    "ax.set_ylabel('Principal Component 2', fontsize = 15)\n",
    "ax.set_title('2 Component PCA', fontsize = 20)\n",
    "\n",
    "colors = ['gray']\n",
    "for target, color in zip(targets,colors):\n",
    "   # indicesToKeep = principalDf['target'] == target\n",
    "    ax.scatter(principalDf.loc[random_list2, 'principal component 1']\n",
    "               , principalDf.loc[random_list2, 'principal component 2']\n",
    "               , c = color\n",
    "               , s = 50)\n",
    "ax.legend(targets)\n",
    "ax.grid()"
   ]
  },
  {
   "cell_type": "code",
   "execution_count": null,
   "metadata": {},
   "outputs": [],
   "source": []
  },
  {
   "cell_type": "code",
   "execution_count": null,
   "metadata": {},
   "outputs": [],
   "source": []
  },
  {
   "cell_type": "markdown",
   "metadata": {},
   "source": [
    "## 4) Show me the head of your data."
   ]
  },
  {
   "cell_type": "code",
   "execution_count": null,
   "metadata": {},
   "outputs": [],
   "source": []
  },
  {
   "cell_type": "markdown",
   "metadata": {},
   "source": [
    "## 5) Show me the shape of your data"
   ]
  },
  {
   "cell_type": "code",
   "execution_count": null,
   "metadata": {},
   "outputs": [],
   "source": []
  },
  {
   "cell_type": "markdown",
   "metadata": {},
   "source": [
    "## 6) Show me the proportion of missing observations for each column of your data"
   ]
  },
  {
   "cell_type": "code",
   "execution_count": 21,
   "metadata": {},
   "outputs": [],
   "source": [
    "\n"
   ]
  },
  {
   "cell_type": "code",
   "execution_count": 23,
   "metadata": {},
   "outputs": [
    {
     "data": {
      "text/html": [
       "<div>\n",
       "<style scoped>\n",
       "    .dataframe tbody tr th:only-of-type {\n",
       "        vertical-align: middle;\n",
       "    }\n",
       "\n",
       "    .dataframe tbody tr th {\n",
       "        vertical-align: top;\n",
       "    }\n",
       "\n",
       "    .dataframe thead th {\n",
       "        text-align: right;\n",
       "    }\n",
       "</style>\n",
       "<table border=\"1\" class=\"dataframe\">\n",
       "  <thead>\n",
       "    <tr style=\"text-align: right;\">\n",
       "      <th></th>\n",
       "      <th>Points1</th>\n",
       "      <th>Points2</th>\n",
       "      <th>Points3</th>\n",
       "      <th>Points4</th>\n",
       "      <th>Points5</th>\n",
       "      <th>Points6</th>\n",
       "      <th>Points7</th>\n",
       "      <th>Points8</th>\n",
       "      <th>Points9</th>\n",
       "      <th>Points10</th>\n",
       "      <th>...</th>\n",
       "      <th>Points43</th>\n",
       "      <th>Points44</th>\n",
       "      <th>Points45</th>\n",
       "      <th>Points46</th>\n",
       "      <th>Points47</th>\n",
       "      <th>Points48</th>\n",
       "      <th>Points49</th>\n",
       "      <th>Points50</th>\n",
       "      <th>Points51</th>\n",
       "      <th>Points52</th>\n",
       "    </tr>\n",
       "  </thead>\n",
       "  <tbody>\n",
       "  </tbody>\n",
       "</table>\n",
       "<p>0 rows × 52 columns</p>\n",
       "</div>"
      ],
      "text/plain": [
       "Empty DataFrame\n",
       "Columns: [Points1, Points2, Points3, Points4, Points5, Points6, Points7, Points8, Points9, Points10, Points11, Points12, Points13, Points14, Points15, Points16, Points17, Points18, Points19, Points20, Points21, Points22, Points23, Points24, Points25, Points26, Points27, Points28, Points29, Points30, Points31, Points32, Points33, Points34, Points35, Points36, Points37, Points38, Points39, Points40, Points41, Points42, Points43, Points44, Points45, Points46, Points47, Points48, Points49, Points50, Points51, Points52]\n",
       "Index: []\n",
       "\n",
       "[0 rows x 52 columns]"
      ]
     },
     "execution_count": 23,
     "metadata": {},
     "output_type": "execute_result"
    }
   ],
   "source": []
  },
  {
   "cell_type": "code",
   "execution_count": null,
   "metadata": {},
   "outputs": [],
   "source": []
  },
  {
   "cell_type": "code",
   "execution_count": 26,
   "metadata": {},
   "outputs": [],
   "source": []
  },
  {
   "cell_type": "code",
   "execution_count": 27,
   "metadata": {},
   "outputs": [
    {
     "data": {
      "text/plain": [
       "(75785, 52)"
      ]
     },
     "execution_count": 27,
     "metadata": {},
     "output_type": "execute_result"
    }
   ],
   "source": []
  },
  {
   "cell_type": "code",
   "execution_count": null,
   "metadata": {},
   "outputs": [],
   "source": []
  },
  {
   "cell_type": "code",
   "execution_count": 50,
   "metadata": {},
   "outputs": [],
   "source": []
  },
  {
   "cell_type": "code",
   "execution_count": null,
   "metadata": {},
   "outputs": [],
   "source": []
  },
  {
   "cell_type": "markdown",
   "metadata": {},
   "source": [
    "## 7) Give me a problem statement.\n",
    "Below, write a problem statement. Keep in mind that your task is to tease out relationships in your data and eventually build a predictive model. Your problem statement can be vague, but you should have a goal in mind. Your problem statement should be between one sentence and one paragraph."
   ]
  },
  {
   "cell_type": "markdown",
   "metadata": {},
   "source": [
    "## 8) What is your _y_-variable?\n",
    "For final project, you will need to perform a statistical model. This means you will have to accurately predict some y-variable for some combination of x-variables. From your problem statement in part 7, what is that y-variable?"
   ]
  }
 ],
 "metadata": {
  "kernelspec": {
   "display_name": "Python 3",
   "language": "python",
   "name": "python3"
  },
  "language_info": {
   "codemirror_mode": {
    "name": "ipython",
    "version": 3
   },
   "file_extension": ".py",
   "mimetype": "text/x-python",
   "name": "python",
   "nbconvert_exporter": "python",
   "pygments_lexer": "ipython3",
   "version": "3.7.3"
  }
 },
 "nbformat": 4,
 "nbformat_minor": 4
}
